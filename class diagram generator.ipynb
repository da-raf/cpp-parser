{
 "cells": [
  {
   "cell_type": "code",
   "execution_count": 58,
   "metadata": {
    "collapsed": true
   },
   "outputs": [],
   "source": [
    "import pyparsing as pp\n"
   ]
  },
  {
   "cell_type": "code",
   "execution_count": 59,
   "metadata": {
    "collapsed": true
   },
   "outputs": [],
   "source": [
    "# datastructures for C++ syntax\n",
    "\n",
    "class TypeArgs:\n",
    "    CONST_TYPE = 1\n",
    "    VOLATILE_TYPE = 2\n",
    "    STATIC_TYPE = 4\n",
    "\n",
    "class CppComplexTypeDefinition:\n",
    "    DEFAULT = 0\n",
    "    CLASS   = 1\n",
    "    STRUCT  = 2\n",
    "    UNION   = 3\n",
    "    \n",
    "    VISIBILITY_DEFAULT = 0\n",
    "    VISIBILITY_PRIVATE = 1\n",
    "    VISIBILITY_PROTECTED = 2\n",
    "    VISIBILITY_PUBLIC = 3\n",
    "    \n",
    "    def __init__(self, complex_type, name, base_types=[], member_variables=[], member_functions=[]):\n",
    "        self.complex_type = complex_type\n",
    "        self.name = name\n",
    "        self.base_types = base_types\n",
    "        self.member_variables = member_variables\n",
    "        self.member_functions = member_functions\n",
    "    \n",
    "\n",
    "class FunctionArgs:\n",
    "    CONST_FUNCTION = 1\n",
    "    VIRTUAL_FUNCTION = 2\n",
    "    CONSTRUCTOR_FUNCTION = 4\n",
    "    DESTRUCTOR_FUNCTION = 8\n",
    "    ABSTRACT_FUNCTION = 16\n",
    "    INLINE_FUNCTION = 32\n",
    "\n",
    "class CppTypeExpression:\n",
    "    def __init__(self, type_name, type_args=0, template_args=[], refs=[]):\n",
    "        self.type_args = type_args\n",
    "        self.type_name = type_name\n",
    "        # if this type is a template type, this will contain the template argument values\n",
    "        self.template_args = template_args\n",
    "\n",
    "class CppPointerTypeExpression:\n",
    "    POINTER_VAR   = 1\n",
    "    REFERENCE_VAR = 2\n",
    "    \n",
    "    def __init__(self, inner_type, ref_type, ref_volatility):\n",
    "        self.inner_type = inner_type\n",
    "        self.ref_type = ref_type\n",
    "        self.ref_volatility = ref_volatility\n",
    "\n",
    "class CppTypeDefinition:\n",
    "    def __init__(self, type_expr, type_name):\n",
    "        self.type_expr = type_expr\n",
    "        self.type_name = type_name\n",
    "\n",
    "class CppVarDeclaration:\n",
    "    def __init__(self, data_type, identifier):\n",
    "        self.data_type = data_type\n",
    "        self.identifier = identifier\n",
    "\n",
    "class CppInheritance:\n",
    "    def __init__(self, base_class_id, visibility=0):\n",
    "        self.vis = visibility\n",
    "        self.base_id = base_class_id\n",
    "\n",
    "class CppMember:\n",
    "    def __init__(self, member_decl, visibility=CppComplexTypeDefinition.VISIBILITY_DEFAULT):\n",
    "        self.member_decl = member_decl\n",
    "        self.vis = visibility\n",
    "    \n",
    "class CppFunctionDeclaration:\n",
    "    def __init__(self, name, return_type, params, args):\n",
    "        self.name = name\n",
    "        self.return_type = return_type\n",
    "        self.params = params\n",
    "        self.args = args\n",
    "    \n",
    "    def isAbstract(self):\n",
    "        return bool(self.args & FunctionArgs.ABSTRACT_FUNCTION)\n",
    "    \n",
    "    def isConstant(self):\n",
    "        return bool(self.args & FunctionArgs.CONST_FUNCTION)\n",
    "    \n",
    "    def isConstructor(self):\n",
    "        return bool(self.args & FunctionArgs.CONSTRUCTOR_FUNCTION)\n",
    "    \n",
    "    def isDestructor(self):\n",
    "        return bool(self.args & FunctionArgs.DESTRUCTOR_FUNCTION)\n",
    "    \n",
    "    def isInline(self):\n",
    "        return bool(self.args & FunctionArgs.INLINE_FUNCTION)\n",
    "    \n",
    "    def isVirtual(self):\n",
    "        return bool(self.args & FunctionArgs.VIRTUAL_FUNCTION)\n",
    "    \n",
    "class CppFunctionDefinition(CppFunctionDeclaration):\n",
    "    def __init__(self, decl):\n",
    "        CppFunctionDeclaration.__init__(self, decl.name, decl.return_type, decl.params, decl.args)\n",
    "\n",
    "class CppClass:\n",
    "    def __init__(self, name, fields=[], member_functions=[], inheritances=[]):\n",
    "        self.name = name\n",
    "        self.fields = fields\n",
    "        self.member_functions = member_functions\n",
    "        self.inheritances = inheritances\n"
   ]
  },
  {
   "cell_type": "code",
   "execution_count": 121,
   "metadata": {
    "collapsed": false
   },
   "outputs": [],
   "source": [
    "# printing C++ code\n",
    "# (conversion of the data-structures back to code)\n",
    "\n",
    "class CppPrinter:\n",
    "    def declaration_str(self, declaration):\n",
    "        return self.type_expr_str(declaration.data_type) + ' ' + self.identifier_str(declaration.identifier)\n",
    "    \n",
    "    def constructor_str(self, constructor):\n",
    "        c = constructor\n",
    "        return self.type_expr_str(c.name) + ' ' + self.parameter_list_str(c.params)\n",
    "    \n",
    "    def function_decl_str(self, function_decl):\n",
    "        #print('Debug: ' + str(function_decl))\n",
    "        res = []\n",
    "        \n",
    "        if function_decl.isInline():\n",
    "            res.append('inline')\n",
    "        if function_decl.isVirtual():\n",
    "            res.append('virtual')\n",
    "        \n",
    "        rts = self.type_expr_str(function_decl.return_type)\n",
    "        res.append( rts if not function_decl.isDestructor() else ('~' + rts) )\n",
    "        \n",
    "        if function_decl.name is not None:\n",
    "            res.append(function_decl.name)\n",
    "        \n",
    "        res.append(self.parameter_list_str(function_decl.params))\n",
    "        \n",
    "        if function_decl.isConstant():\n",
    "            res.append('const')\n",
    "        \n",
    "        if function_decl.isAbstract():\n",
    "            res.append('= 0')\n",
    "        \n",
    "        return ' '.join(res)\n",
    "    \n",
    "    def identifier_str(self, identifier):\n",
    "        return identifier\n",
    "    \n",
    "    def inheritance_str(self, inheritance):\n",
    "        return visibility_str(inheritance.vis) + ' ' + inheritance.base_id\n",
    "    \n",
    "    def parameter_list_str(self, pl):\n",
    "        return '(' + ', '.join(map(self.declaration_str, pl)) + ')'\n",
    "    \n",
    "    def type_expr_str(self, type_id):\n",
    "        if type(type_id) == CppPointerTypeExpression:\n",
    "            ref_str = '*' if type_id.ref_type == CppPointerTypeExpression.POINTER_VAR   else \\\n",
    "                      '&' if type_id.ref_type == CppPointerTypeExpression.REFERENCE_VAR else \\\n",
    "                      ''\n",
    "            it = type_id.inner_type\n",
    "            return self.type_expr_str(it) + (' ' if type(it) != CppPointerTypeExpression else '') + ref_str \\\n",
    "                 + self.volatility_str(type_id.ref_volatility)\n",
    "        elif type(type_id) == CppTypeExpression:\n",
    "            #print('DEBUG: %s - %s' % (type_id.type_name, str(type_id.template_args)))\n",
    "            res = []\n",
    "            if type_id.type_args & TypeArgs.STATIC_TYPE:\n",
    "                res.append('static')\n",
    "            if type_id.type_args & TypeArgs.CONST_TYPE:\n",
    "                res.append('const')\n",
    "            if type_id.type_args & TypeArgs.VOLATILE_TYPE:\n",
    "                res.append('volatile')\n",
    "\n",
    "            # format template args\n",
    "            template_str = ''\n",
    "            if type_id.template_args:\n",
    "                template_str = '<' + ', '.join(map(self.type_expr_str, type_id.template_args)) + '>'\n",
    "\n",
    "            res.append(type_id.type_name + template_str)\n",
    "\n",
    "            return ' '.join(res)\n",
    "        else:\n",
    "            raise ValueError(str(type(type_id)) + ' is not a c++ type object!')\n",
    "\n",
    "    def typedef_str(self, typedef):\n",
    "        return 'typedef' + ' ' + self.type_expr_str(typedef.type_expr) + ' ' + typedef.type_name\n",
    "    \n",
    "    def visibility_str(self, visibility):\n",
    "        return 'private'   if visibilty == CppComplexTypeDefinition.VISIBILITY_PRIVATE   else \\\n",
    "               'public'    if visibilty == CppComplexTypeDefinition.VISIBILITY_PUBLIC    else \\\n",
    "               'protected' if visibilty == CppComplexTypeDefinition.VISIBILITY_PROTECTED else \\\n",
    "               ''\n",
    "    \n",
    "    def volatility_str(self, volatility):\n",
    "        return 'const'    if volatility == TypeArgs.CONST_TYPE    else \\\n",
    "               'volatile' if volatility == TypeArgs.VOLATILE_TYPE else \\\n",
    "               ''\n",
    "\n",
    "    def complex_type_prefix_str(self, complex_type_prefix):\n",
    "        return 'struct' if complex_type_prefix == CppComplexTypeDefinition.STRUCT else \\\n",
    "               'class'  if complex_type_prefix == CppComplexTypeDefinition.CLASS  else \\\n",
    "               'union'  if complex_type_prefix == CppComplexTypeDefinition.UNION  else \\\n",
    "               ''\n",
    "    \n",
    "    def complex_type_str(self, complex_type):\n",
    "        prefix_str = self.complex_type_prefix_str(complex_type.complex_type)\n",
    "        name_str = complex_type.name\n",
    "        return prefix_str + ' ' + name_str + ' ' + '{}'\n",
    "    "
   ]
  },
  {
   "cell_type": "code",
   "execution_count": 61,
   "metadata": {
    "collapsed": false
   },
   "outputs": [],
   "source": [
    "# match unparsed scopes\n",
    "def get_scope(start, end):\n",
    "    scope = pp.Forward()\n",
    "    scope <<= pp.Literal(start) \\\n",
    "            + pp.ZeroOrMore(pp.Word(pp.printables.replace(start,'').replace(end,'')) | scope) \\\n",
    "            + pp.Literal(end)\n",
    "    return scope\n",
    "\n",
    "def get_separated_list(sep, expr, min_len=0):\n",
    "    if min_len == 0:\n",
    "        return pp.Optional(expr + pp.ZeroOrMore(sep + expr))\n",
    "    elif min_len == 1:\n",
    "        return expr + pp.ZeroOrMore(sep + expr)\n",
    "    else:\n",
    "        return expr + (sep + expr) * (min_len-1) + pp.ZeroOrMore(sep + expr)\n",
    "\n",
    "def csl(expr, min_len=0):\n",
    "    return get_separated_list(pp.Literal(',').suppress(), expr, min_len=min_len)\n"
   ]
  },
  {
   "cell_type": "code",
   "execution_count": 62,
   "metadata": {
    "collapsed": true
   },
   "outputs": [],
   "source": [
    "def print_args(function):\n",
    "    def wrapper(*args, **kwargs):\n",
    "        printer = CppPrinter()\n",
    "        \n",
    "        print('args: %s, kwargs: %s' % (str(args), str(kwargs)))\n",
    "        for arg in args:\n",
    "            if type(arg) == CppTypeExpression or type(arg) == CppPointerTypeExpression:\n",
    "                print(printer.type_expr_str(arg))\n",
    "        return function(*args, **kwargs)\n",
    "    return wrapper\n"
   ]
  },
  {
   "cell_type": "code",
   "execution_count": 117,
   "metadata": {
    "collapsed": true
   },
   "outputs": [],
   "source": [
    "# builder functions for the more complex types\n",
    "\n",
    "def build_type_expression(tokens):\n",
    "    name = tokens.name[0]\n",
    "    args = tokens.args\n",
    "    templates = [tokens.template[0]] if tokens.template else []\n",
    "    \n",
    "    return CppTypeExpression(name, args, templates)\n",
    "\n",
    "def build_pointer_type_expression(inner_type, refs_list):\n",
    "    printer = CppPrinter()\n",
    "    #print('building pointer type: %s, %s' % (printer.type_expr_str(inner_type), str(refs_list)))\n",
    "    \n",
    "    if not refs_list:\n",
    "        return inner_type\n",
    "    el = refs_list.pop(0)\n",
    "    \n",
    "    ref_type = el[0]\n",
    "    if len(el) > 1:\n",
    "        ref_vol = el[1]\n",
    "    else:\n",
    "        ref_vol = 0\n",
    "    \n",
    "    return build_pointer_type_expression(\n",
    "        CppPointerTypeExpression(inner_type, ref_type, ref_vol),\n",
    "        refs_list\n",
    "    )\n",
    "\n",
    "def build_declaration_list(res):\n",
    "    return [\n",
    "        CppVarDeclaration(\n",
    "            build_pointer_type_expression( res.type_id[0], elem.refs ),\n",
    "            elem.name\n",
    "        ) for elem in res.ids\n",
    "    ]\n",
    "\n",
    "def build_function( parse_result ):\n",
    "    # build args bitmap\n",
    "    args = 0\n",
    "    if parse_result.abstract:\n",
    "        # we need to dereference here, as 'abstract_functions' is a combination of expressions\n",
    "        # pyparsing is not context free here\n",
    "        args += parse_result.abstract[0]\n",
    "    if parse_result.const:\n",
    "        args += parse_result.const\n",
    "    if parse_result.constructor:\n",
    "        args += FunctionArgs.CONSTRUCTOR_FUNCTION\n",
    "    if parse_result.destructor:\n",
    "        args += parse_result.destructor\n",
    "    if parse_result.virtual:\n",
    "        args += parse_result.virtual\n",
    "    if parse_result.inline:\n",
    "        args += parse_result.inline\n",
    "    \n",
    "    if parse_result.constructor:\n",
    "        tp = parse_result.constructor[0]\n",
    "    else:\n",
    "        tp = parse_result.decl.data_type\n",
    "    \n",
    "    if not parse_result.decl:\n",
    "        parse_result.name = None\n",
    "    else:\n",
    "        parse_result.name = parse_result.decl.identifier\n",
    "    return CppFunctionDeclaration(parse_result.name, tp, parse_result.parameters, args)\n",
    "\n",
    "def build_function_definition(res):\n",
    "    return CppFunctionDefinition(res.decl)\n",
    "\n",
    "def build_complex_type(res):\n",
    "    return CppComplexTypeDefinition(res.decl.struct_type, res.decl.name)\n"
   ]
  },
  {
   "cell_type": "code",
   "execution_count": 125,
   "metadata": {
    "collapsed": false
   },
   "outputs": [],
   "source": [
    "# C++ Syntax Description\n",
    "\n",
    "# comments need to be removed\n",
    "comment = (pp.cStyleComment | pp.cppStyleComment)\n",
    "preprocessor = pp.lineStart() + pp.Word('#', pp.alphas) + pp.SkipTo( pp.lineEnd() )\n",
    "preprocessor.setWhitespaceChars(' \\r\\t')\n",
    "\n",
    "identifier  = pp.Word( pp.alphas + '_', pp.alphanums + '_' )\n",
    "persistency = pp.Keyword('static'  ).setParseAction( pp.replaceWith(TypeArgs.STATIC_TYPE)   )\n",
    "volatility  = pp.Keyword('const'   ).setParseAction( pp.replaceWith(TypeArgs.CONST_TYPE )   ) \\\n",
    "            | pp.Keyword('volatile').setParseAction( pp.replaceWith(TypeArgs.VOLATILE_TYPE) )\n",
    "\n",
    "reference = pp.Literal('*').setParseAction( pp.replaceWith(CppPointerTypeExpression.POINTER_VAR  ) ) \\\n",
    "          | pp.Literal('&').setParseAction( pp.replaceWith(CppPointerTypeExpression.REFERENCE_VAR) )\n",
    "\n",
    "# member function on const object\n",
    "const_function    = pp.Keyword('const'  ).setParseAction( pp.replaceWith(FunctionArgs.CONST_FUNCTION     ) )\n",
    "virtual_function  = pp.Keyword('virtual').setParseAction( pp.replaceWith(FunctionArgs.VIRTUAL_FUNCTION   ) )\n",
    "destructor_tag    = pp.Literal('~'      ).setParseAction( pp.replaceWith(FunctionArgs.DESTRUCTOR_FUNCTION) )\n",
    "abstract_function = (pp.Literal('=') + pp.Literal('0')).setParseAction( pp.replaceWith(FunctionArgs.ABSTRACT_FUNCTION))\n",
    "inline_function   = pp.Keyword('inline').setParseAction( pp.replaceWith(FunctionArgs.INLINE_FUNCTION) )\n",
    "\n",
    "complex_type = pp.Keyword('class' ).setParseAction(pp.replaceWith(CppComplexTypeDefinition.CLASS )) \\\n",
    "             | pp.Keyword('struct').setParseAction(pp.replaceWith(CppComplexTypeDefinition.STRUCT)) \\\n",
    "             | pp.Keyword('union' ).setParseAction(pp.replaceWith(CppComplexTypeDefinition.UNION ))\n",
    "\n",
    "int_value = pp.Optional(pp.Literal('+') | pp.Literal('-'))('sign') + pp.Word(pp.nums)('value')\n",
    "int_value.setParseAction(lambda res: int(res.value) * ((-1) if res.sign == '-' else 1))\n",
    "long_value = int_value + pp.Literal('L').suppress()\n",
    "\n",
    "ref = reference + pp.Optional(volatility)\n",
    "\n",
    "value_expression = pp.Forward()\n",
    "#value_expression <<= identifier | \n",
    "\n",
    "# all type names\n",
    "#\n",
    "# type expressions can be recursive due to templates\n",
    "# TODO: do not suppress struct, union and class keywords\n",
    "type_expression = pp.Forward()\n",
    "type_expression <<= (pp.ZeroOrMore(persistency | volatility).setParseAction(\n",
    "                    lambda tokens: sum(tokens) # collapse all bitmasks into a single one\n",
    "                )('args') \\\n",
    "                + pp.Group(\n",
    "                    (pp.Optional(pp.Keyword('unsigned') | pp.Keyword('signed')) \\\n",
    "                        + (pp.Keyword('double') | pp.Keyword('int') | pp.Keyword('float') \\\n",
    "                        |  pp.Keyword('char') | pp.Keyword('unsigned') | pp.Keyword('signed') | pp.Keyword('void'))).setParseAction( lambda tokens: ' '.join(tokens) ) \\\n",
    "                | (pp.Optional(complex_type).suppress() + identifier + pp.ZeroOrMore(pp.Literal('::') + identifier)).setParseAction( lambda tokens: ''.join(tokens) ))('name') \\\n",
    "                + pp.Optional(\n",
    "                      pp.Literal('<').suppress() \\\n",
    "                    + csl(type_expression + pp.ZeroOrMore(ref), 1) \\\n",
    "                    + pp.Literal('>').suppress()\n",
    "                )('template')\n",
    ").setParseAction( build_type_expression )\n",
    "\n",
    "# declaration: <type> <address-stars> <var-name> <array-brackets>\n",
    "var_decl = type_expression('type_id') \\\n",
    "     + pp.ZeroOrMore( pp.Group(ref) )('refs') + identifier('name') \\\n",
    "     + pp.ZeroOrMore( get_scope('[',']') ).suppress() \\\n",
    "     + pp.Optional(pp.Literal('=').suppress() + pp.SkipTo(pp.Literal(';')))\n",
    "var_decl.setParseAction(lambda res: CppVarDeclaration(build_pointer_type_expression(res.type_id[0], res.refs), res.name))\n",
    "\n",
    "var_decl_list = type_expression('type_id') \\\n",
    "          + csl(\n",
    "                pp.Group(\n",
    "                    pp.ZeroOrMore( pp.Group(ref) )('refs') + identifier('name') \\\n",
    "                  + pp.ZeroOrMore( get_scope('[',']') ).suppress() \\\n",
    "                  + pp.Optional(pp.Literal('=') + pp.SkipTo(pp.Literal(',') | pp.Literal(';')))\n",
    "                )\n",
    "          )('ids')\n",
    "var_decl_list.setParseAction( build_declaration_list )\n",
    "\n",
    "# parameter list: '(' <list of parameter declarations> or 'void' ')'\n",
    "# important: '+' has precedence over '|' -> brackets after the '(' literals are semantically needed!\n",
    "parameter_list = pp.Literal('(').suppress() \\\n",
    "               + pp.Optional( csl(var_decl) | pp.Keyword('void').suppress()) \\\n",
    "               + pp.Literal(')').suppress()\n",
    "\n",
    "#+ type_expression('ret_type') \\\n",
    "#+ pp.Optional(\n",
    "#    pp.Group(\n",
    "#        pp.ZeroOrMore( ref )\n",
    "#    )('refs') + identifier('name')\n",
    "#) \\\n",
    "\n",
    "fun_decl = pp.ZeroOrMore(virtual_function('virtual') | inline_function('inline')) \\\n",
    "         + (var_decl('decl') | (pp.Optional(destructor_tag('destructor')) + type_expression('constructor'))) \\\n",
    "         + pp.Group(parameter_list)('parameters') \\\n",
    "         + pp.Optional(const_function('const')) \\\n",
    "         + pp.Optional(abstract_function('abstract'))\n",
    "\n",
    "fun_decl.setParseAction( build_function )\n",
    "\n",
    "# TODO: quick and dirty hack to catch function calls\n",
    "fun_call = identifier + get_scope('(', ')')\n",
    "\n",
    "fun_def = fun_decl('decl') \\\n",
    "        + pp.Optional(pp.Literal(':') + fun_call + pp.ZeroOrMore(pp.Literal(',').suppress() + fun_call)) \\\n",
    "        + get_scope('{', '}')\n",
    "fun_def.setParseAction( build_function_definition )\n",
    "\n",
    "decl = fun_decl | var_decl_list\n",
    "\n",
    "visibility = pp.Keyword('private'  ).setParseAction( pp.replaceWith( CppComplexTypeDefinition.VISIBILITY_PRIVATE   ) ) \\\n",
    "           | pp.Keyword('public'   ).setParseAction( pp.replaceWith( CppComplexTypeDefinition.VISIBILITY_PUBLIC    ) ) \\\n",
    "           | pp.Keyword('protected').setParseAction( pp.replaceWith( CppComplexTypeDefinition.VISIBILITY_PROTECTED ) )\n",
    "\n",
    "visibility_space = pp.Optional(visibility + pp.Literal(':').suppress()) + pp.ZeroOrMore(fun_def | (decl + pp.Literal(';').suppress()))\n",
    "\n",
    "inheritance = pp.Optional(visibility)('visibility') + identifier('base_class_name')\n",
    "inheritance.setParseAction(lambda res: CppInheritance(res.base_class_name, res.visibility if len(res) != 0 else CppComplexTypeDefinition.VISIBILITY_DEFAULT))\n",
    "\n",
    "complex_type_decl = complex_type('struct_type') + identifier('name')\n",
    "\n",
    "type_def = pp.Keyword('typedef') + type_expression('expr') + identifier('name')\n",
    "type_def.setParseAction(lambda res: CppTypeDefinition(res.expr[0], res.name))\n",
    "\n",
    "complex_type_def   = pp.Forward()\n",
    "complex_type_def <<= pp.Optional(visibility) + complex_type_decl('decl') + \\\n",
    "              pp.Optional(pp.Group(pp.Literal(':').suppress() + csl(inheritance)))('base_classes') \\\n",
    "            + pp.Literal('{') \\\n",
    "                + pp.Group(pp.ZeroOrMore(fun_def | (decl + pp.Literal(';').suppress()))) \\\n",
    "                + pp.ZeroOrMore(visibility_space) \\\n",
    "            + pp.Literal('}')\n",
    "#complex_type_def.setParseAction(build_complex_type)\n"
   ]
  },
  {
   "cell_type": "code",
   "execution_count": 103,
   "metadata": {
    "collapsed": false
   },
   "outputs": [],
   "source": [
    "assert int_value.parseString('-1234')[0] == -1234, 'int-value does not match int'\n",
    "assert long_value.parseString('-1234L')[0] == -1234, 'long-value does not match long'\n",
    "\n",
    "try:\n",
    "    int_value.parseString('1234L', parseAll=True)\n",
    "except pp.ParseException:\n",
    "    # all fine!\n",
    "    pass\n",
    "else:\n",
    "    # must not match\n",
    "    assert False, 'int-value matches long'\n",
    "\n",
    "try:\n",
    "    long_value.parseString('1234')\n",
    "except pp.ParseException:\n",
    "    # all fine!\n",
    "    pass\n",
    "else:\n",
    "    assert False, 'long-value matches int'\n"
   ]
  },
  {
   "cell_type": "code",
   "execution_count": 104,
   "metadata": {
    "collapsed": true
   },
   "outputs": [],
   "source": [
    "import os\n",
    "from os.path import join, getsize\n"
   ]
  },
  {
   "cell_type": "code",
   "execution_count": 105,
   "metadata": {
    "collapsed": false
   },
   "outputs": [],
   "source": [
    "# load source file\n",
    "\n",
    "source_code = '\\n'.join(\n",
    "    open('/home/farad/Programmieren/fg/flightgear/src/Input/FGEventInput.hxx')\n",
    ")\n"
   ]
  },
  {
   "cell_type": "code",
   "execution_count": 106,
   "metadata": {
    "collapsed": false,
    "scrolled": true
   },
   "outputs": [],
   "source": [
    "# remove comments and preprocessor directives from the code\n",
    "stripped_source = (comment | preprocessor).suppress().transformString(source_code)\n"
   ]
  },
  {
   "cell_type": "code",
   "execution_count": 107,
   "metadata": {
    "collapsed": false,
    "scrolled": false
   },
   "outputs": [
    {
     "name": "stdout",
     "output_type": "stream",
     "text": [
      "typedef SGSharedPtr<FGEventSetting> FGEventSetting_ptr\n",
      "typedef std::vector<FGEventSetting_ptr> setting_list_t\n",
      "typedef SGSharedPtr<FGInputEvent> FGInputEvent_ptr\n",
      "typedef SGSharedPtr<FGInputDevice> FGInputDevice_ptr\n"
     ]
    }
   ],
   "source": [
    "printer = CppPrinter()\n",
    "typeds = type_def.searchString(stripped_source)\n",
    "\n",
    "for typed in typeds:\n",
    "    print(printer.typedef_str(typed[0]))\n"
   ]
  },
  {
   "cell_type": "code",
   "execution_count": 108,
   "metadata": {
    "collapsed": false
   },
   "outputs": [
    {
     "data": {
      "text/plain": [
       "'double ** a'"
      ]
     },
     "execution_count": 108,
     "metadata": {},
     "output_type": "execute_result"
    }
   ],
   "source": [
    "printer = CppPrinter()\n",
    "#printer.declaration_str(var_decl_list.parseString('double **a')[0])\n",
    "vd = var_decl_list.parseString('double **a')[0]\n",
    "printer.declaration_str(vd)"
   ]
  },
  {
   "cell_type": "code",
   "execution_count": 109,
   "metadata": {
    "collapsed": false,
    "scrolled": true
   },
   "outputs": [
    {
     "name": "stdout",
     "output_type": "stream",
     "text": [
      "found 50 functions:\n",
      "FGEventData (double aValue, double aDt, int aModifiers)\n",
      "FGEventSetting (SGPropertyNode_ptr base)\n",
      "bool Test ()\n",
      "double GetValue ()\n",
      "FGInputEvent (FGInputDevice * device, SGPropertyNode_ptr node)\n",
      "virtual ~FGInputEvent ()\n",
      "virtual void fire (FGEventData & eventData)\n",
      "std::string GetName () const\n",
      "std::string GetDescription () const\n",
      "virtual void update (double dt)\n",
      "static FGInputEvent * NewObject (FGInputDevice * device, SGPropertyNode_ptr node)\n",
      "virtual void fire (SGBinding * binding, FGEventData & eventData)\n",
      "FGButtonEvent (FGInputDevice * device, SGPropertyNode_ptr node)\n",
      "virtual void fire (FGEventData & eventData)\n",
      "FGAxisEvent (FGInputDevice * device, SGPropertyNode_ptr node)\n",
      "void SetMaxRange (double value)\n",
      "void SetMinRange (double value)\n",
      "void SetRange (double min, double max)\n",
      "virtual void fire (FGEventData & eventData)\n",
      "FGRelAxisEvent (FGInputDevice * device, SGPropertyNode_ptr node)\n",
      "virtual void fire (SGBinding * binding, FGEventData & eventData)\n",
      "FGAbsAxisEvent (FGInputDevice * device, SGPropertyNode_ptr node)\n",
      "virtual void fire (SGBinding * binding, FGEventData & eventData)\n",
      "FGInputDevice ()\n",
      "FGInputDevice (std::string aName)\n",
      "virtual ~FGInputDevice ()\n",
      "virtual void Open () = 0\n",
      "virtual void Close () = 0\n",
      "virtual void Send (const char * eventName, double value) = 0\n",
      "inline void Send (const std::string & eventName, double value)\n",
      "c_str ()\n",
      "virtual const char * TranslateEventName (FGEventData & eventData) = 0\n",
      "void SetName (std::string name)\n",
      "std::string & GetName ()\n",
      "void HandleEvent (FGEventData & eventData)\n",
      "void AddHandledEvent (FGInputEvent_ptr handledEvent)\n",
      "GetName ()\n",
      "GetName ()\n",
      "virtual void Configure (SGPropertyNode_ptr deviceNode)\n",
      "virtual void update (double dt)\n",
      "bool GetDebugEvents () const\n",
      "bool GetGrab () const\n",
      "const std::string & GetNasalModule () const\n",
      "FGEventInput ()\n",
      "virtual ~FGEventInput ()\n",
      "virtual void init ()\n",
      "virtual void postinit ()\n",
      "virtual void update (double dt)\n",
      "unsigned AddDevice (FGInputDevice * inputDevice)\n",
      "void RemoveDevice (unsigned index)\n"
     ]
    }
   ],
   "source": [
    "printer = CppPrinter()\n",
    "functions = fun_decl.searchString(stripped_source)\n",
    "\n",
    "print('found %d functions:' % len(functions))\n",
    "\n",
    "for fun_dcl in functions:\n",
    "    print(printer.function_decl_str(fun_dcl[0]))\n",
    "    "
   ]
  },
  {
   "cell_type": "code",
   "execution_count": 110,
   "metadata": {
    "collapsed": false
   },
   "outputs": [
    {
     "data": {
      "text/plain": [
       "'double ** a'"
      ]
     },
     "execution_count": 110,
     "metadata": {},
     "output_type": "execute_result"
    }
   ],
   "source": [
    "vdcl = var_decl.searchString('double **a, int x[]')\n",
    "printer.declaration_str(vdcl[0][0])"
   ]
  },
  {
   "cell_type": "code",
   "execution_count": 111,
   "metadata": {
    "collapsed": false
   },
   "outputs": [
    {
     "data": {
      "text/plain": [
       "([<__main__.CppTypeExpression object at 0x7f0948587c88>, 'bindings', '[', 'KEYMOD_MAX', ']'], {})"
      ]
     },
     "execution_count": 111,
     "metadata": {},
     "output_type": "execute_result"
    }
   ],
   "source": [
    "(type_expression + identifier + pp.Optional( get_scope('[',']') )).parseString('binding_list_t bindings[KEYMOD_MAX]', parseAll=True)"
   ]
  },
  {
   "cell_type": "code",
   "execution_count": 126,
   "metadata": {
    "collapsed": false,
    "scrolled": true
   },
   "outputs": [
    {
     "name": "stdout",
     "output_type": "stream",
     "text": [
      "found 11 classes:\n",
      "([2, 'FGEventData', '{', ([<__main__.CppFunctionDefinition object at 0x7f09483efb70>, <__main__.CppVarDeclaration object at 0x7f09485b9a58>, <__main__.CppVarDeclaration object at 0x7f09485a70b8>, <__main__.CppVarDeclaration object at 0x7f09485420b8>], {}), '}'], {'struct_type': [(2, 0)], 'name': [('FGEventData', 1)], 'decl': [(([2, 'FGEventData'], {'struct_type': [(2, 0)], 'name': [('FGEventData', 1)]}), 0)]})\n",
      "([1, 'FGEventSetting', ([<__main__.CppInheritance object at 0x7f094844e0b8>], {}), '{', ([], {}), 3, ':', <__main__.CppFunctionDeclaration object at 0x7f09484a4fd0>, <__main__.CppFunctionDeclaration object at 0x7f0948556f28>, <__main__.CppFunctionDeclaration object at 0x7f094845a5c0>, 2, ':', <__main__.CppVarDeclaration object at 0x7f0948489b00>, <__main__.CppVarDeclaration object at 0x7f0948556470>, <__main__.CppVarDeclaration object at 0x7f0948489278>, '}'], {'struct_type': [(1, 0)], 'base_classes': [(([([<__main__.CppInheritance object at 0x7f094844e0b8>], {})], {}), 2)], 'name': [('FGEventSetting', 1)], 'decl': [(([1, 'FGEventSetting'], {'struct_type': [(1, 0)], 'name': [('FGEventSetting', 1)]}), 0)]})\n",
      "([1, 'FGInputDevice'], {'struct_type': [(1, 0)], 'name': [('FGInputDevice', 1)]})\n",
      "([1, 'FGInputEvent', ([<__main__.CppInheritance object at 0x7f09483aada0>, <__main__.CppInheritance object at 0x7f09485b9b00>], {}), '{', ([], {}), 3, ':', <__main__.CppFunctionDeclaration object at 0x7f0948455978>, <__main__.CppFunctionDeclaration object at 0x7f0948535048>, <__main__.CppFunctionDeclaration object at 0x7f09484a9dd8>, <__main__.CppFunctionDefinition object at 0x7f09484e3f28>, <__main__.CppFunctionDefinition object at 0x7f0948535400>, <__main__.CppFunctionDeclaration object at 0x7f0948489da0>, <__main__.CppFunctionDeclaration object at 0x7f0948418ba8>, 2, ':', <__main__.CppFunctionDeclaration object at 0x7f0948535748>, <__main__.CppVarDeclaration object at 0x7f094845a9b0>, <__main__.CppVarDeclaration object at 0x7f09485eedd8>, <__main__.CppVarDeclaration object at 0x7f09484ec7f0>, <__main__.CppVarDeclaration object at 0x7f09485ee240>, <__main__.CppVarDeclaration object at 0x7f0948637ef0>, <__main__.CppVarDeclaration object at 0x7f09485ee9b0>, <__main__.CppVarDeclaration object at 0x7f09484a9e48>, <__main__.CppVarDeclaration object at 0x7f0948472898>, '}'], {'struct_type': [(1, 0)], 'base_classes': [(([([<__main__.CppInheritance object at 0x7f09483aada0>, <__main__.CppInheritance object at 0x7f09485b9b00>], {})], {}), 2)], 'name': [('FGInputEvent', 1)], 'decl': [(([1, 'FGInputEvent'], {'struct_type': [(1, 0)], 'name': [('FGInputEvent', 1)]}), 0)]})\n",
      "([1, 'FGButtonEvent', ([<__main__.CppInheritance object at 0x7f09485357b8>], {}), '{', ([], {}), 3, ':', <__main__.CppFunctionDeclaration object at 0x7f0948401d68>, <__main__.CppFunctionDeclaration object at 0x7f09483e5ef0>, 2, ':', <__main__.CppVarDeclaration object at 0x7f0948416cf8>, <__main__.CppVarDeclaration object at 0x7f09485eeba8>, '}'], {'struct_type': [(1, 0)], 'base_classes': [(([([<__main__.CppInheritance object at 0x7f09485357b8>], {})], {}), 2)], 'name': [('FGButtonEvent', 1)], 'decl': [(([1, 'FGButtonEvent'], {'struct_type': [(1, 0)], 'name': [('FGButtonEvent', 1)]}), 0)]})\n",
      "([1, 'FGAxisEvent', ([<__main__.CppInheritance object at 0x7f094845a240>], {}), '{', ([], {}), 3, ':', <__main__.CppFunctionDeclaration object at 0x7f0948472a58>, <__main__.CppFunctionDefinition object at 0x7f0948535e48>, <__main__.CppFunctionDefinition object at 0x7f0948529780>, <__main__.CppFunctionDefinition object at 0x7f09485e19e8>, 2, ':', <__main__.CppFunctionDeclaration object at 0x7f09484727b8>, <__main__.CppVarDeclaration object at 0x7f0948569320>, <__main__.CppVarDeclaration object at 0x7f09485b9d30>, <__main__.CppVarDeclaration object at 0x7f0948569828>, <__main__.CppVarDeclaration object at 0x7f09484e3cf8>, <__main__.CppVarDeclaration object at 0x7f09485e1438>, <__main__.CppVarDeclaration object at 0x7f09485e1e10>, <__main__.CppVarDeclaration object at 0x7f09484ecac8>, <__main__.CppVarDeclaration object at 0x7f09485e1828>, '}'], {'struct_type': [(1, 0)], 'base_classes': [(([([<__main__.CppInheritance object at 0x7f094845a240>], {})], {}), 2)], 'name': [('FGAxisEvent', 1)], 'decl': [(([1, 'FGAxisEvent'], {'struct_type': [(1, 0)], 'name': [('FGAxisEvent', 1)]}), 0)]})\n",
      "([1, 'FGRelAxisEvent', ([<__main__.CppInheritance object at 0x7f09485694a8>], {}), '{', ([], {}), 3, ':', <__main__.CppFunctionDeclaration object at 0x7f09483d6198>, 2, ':', <__main__.CppFunctionDeclaration object at 0x7f09485d3240>, '}'], {'struct_type': [(1, 0)], 'base_classes': [(([([<__main__.CppInheritance object at 0x7f09485694a8>], {})], {}), 2)], 'name': [('FGRelAxisEvent', 1)], 'decl': [(([1, 'FGRelAxisEvent'], {'struct_type': [(1, 0)], 'name': [('FGRelAxisEvent', 1)]}), 0)]})\n",
      "([1, 'FGAbsAxisEvent', ([<__main__.CppInheritance object at 0x7f0948569128>], {}), '{', ([], {}), 3, ':', <__main__.CppFunctionDefinition object at 0x7f094857d2b0>, 2, ':', <__main__.CppFunctionDeclaration object at 0x7f09484ec470>, '}'], {'struct_type': [(1, 0)], 'base_classes': [(([([<__main__.CppInheritance object at 0x7f0948569128>], {})], {}), 2)], 'name': [('FGAbsAxisEvent', 1)], 'decl': [(([1, 'FGAbsAxisEvent'], {'struct_type': [(1, 0)], 'name': [('FGAbsAxisEvent', 1)]}), 0)]})\n",
      "([1, 'SGSharedPtr'], {'struct_type': [(1, 0)], 'name': [('SGSharedPtr', 1)]})\n",
      "([1, 'FGInputDevice', ([<__main__.CppInheritance object at 0x7f09485d38d0>], {}), '{', ([], {}), 3, ':', <__main__.CppFunctionDefinition object at 0x7f09485e15c0>, <__main__.CppFunctionDefinition object at 0x7f0948455d30>, <__main__.CppFunctionDeclaration object at 0x7f0948529b70>, <__main__.CppFunctionDeclaration object at 0x7f0948529f60>, <__main__.CppFunctionDeclaration object at 0x7f09485d39e8>, <__main__.CppFunctionDeclaration object at 0x7f094857d780>, <__main__.CppFunctionDefinition object at 0x7f0948570240>, <__main__.CppFunctionDeclaration object at 0x7f09485eeac8>, <__main__.CppFunctionDeclaration object at 0x7f0948459898>, <__main__.CppFunctionDefinition object at 0x7f094857ddd8>, <__main__.CppFunctionDeclaration object at 0x7f09485e6390>, <__main__.CppFunctionDefinition object at 0x7f0948416f28>, <__main__.CppFunctionDeclaration object at 0x7f0948416588>, <__main__.CppFunctionDeclaration object at 0x7f09485d3278>, <__main__.CppFunctionDefinition object at 0x7f0948596ac8>, <__main__.CppFunctionDefinition object at 0x7f0948529a58>, <__main__.CppFunctionDefinition object at 0x7f09484762e8>, 1, ':', <__main__.CppVarDeclaration object at 0x7f0948529400>, <__main__.CppVarDeclaration object at 0x7f0948425400>, <__main__.CppVarDeclaration object at 0x7f094851d588>, <__main__.CppVarDeclaration object at 0x7f0948425828>, <__main__.CppVarDeclaration object at 0x7f09484761d0>, <__main__.CppVarDeclaration object at 0x7f09484ec5c0>, '}'], {'struct_type': [(1, 0)], 'base_classes': [(([([<__main__.CppInheritance object at 0x7f09485d38d0>], {})], {}), 2)], 'name': [('FGInputDevice', 1)], 'decl': [(([1, 'FGInputDevice'], {'struct_type': [(1, 0)], 'name': [('FGInputDevice', 1)]}), 0)]})\n",
      "([1, 'FGEventInput', ([<__main__.CppInheritance object at 0x7f0948416080>, <__main__.CppInheritance object at 0x7f09483c4f60>], {}), '{', ([], {}), 3, ':', <__main__.CppFunctionDeclaration object at 0x7f0948569ef0>, <__main__.CppFunctionDeclaration object at 0x7f09485961d0>, <__main__.CppFunctionDeclaration object at 0x7f09485350f0>, <__main__.CppFunctionDeclaration object at 0x7f0948535dd8>, <__main__.CppFunctionDeclaration object at 0x7f09484169e8>, <__main__.CppVarDeclaration object at 0x7f09485700f0>, <__main__.CppVarDeclaration object at 0x7f094857dda0>, 2, ':', <__main__.CppVarDeclaration object at 0x7f0948416518>, <__main__.CppFunctionDeclaration object at 0x7f0948476da0>, <__main__.CppFunctionDeclaration object at 0x7f094857d7b8>, <__main__.CppVarDeclaration object at 0x7f094857dcf8>, <__main__.CppVarDeclaration object at 0x7f094850a518>, <__main__.CppVarDeclaration object at 0x7f094857d860>, '}'], {'struct_type': [(1, 0)], 'base_classes': [(([([<__main__.CppInheritance object at 0x7f0948416080>, <__main__.CppInheritance object at 0x7f09483c4f60>], {})], {}), 2)], 'name': [('FGEventInput', 1)], 'decl': [(([1, 'FGEventInput'], {'struct_type': [(1, 0)], 'name': [('FGEventInput', 1)]}), 0)]})\n"
     ]
    }
   ],
   "source": [
    "printer = CppPrinter()\n",
    "classes = (complex_type_def | complex_type_decl).searchString(stripped_source)\n",
    "print('found %d classes:' % len(classes))\n",
    "\n",
    "for cl in classes:\n",
    "    print(repr(cl))\n",
    "    if type(cl[0]) == CppComplexTypeDefinition:\n",
    "        print(printer.complex_type_str(cl[0]))\n"
   ]
  },
  {
   "cell_type": "code",
   "execution_count": 263,
   "metadata": {
    "collapsed": false
   },
   "outputs": [
    {
     "data": {
      "text/plain": [
       "'static const unsigned MAX_DEVICES'"
      ]
     },
     "execution_count": 263,
     "metadata": {},
     "output_type": "execute_result"
    }
   ],
   "source": [
    "dcl = var_decl.searchString('const static unsigned MAX_DEVICES = 1000;')\n",
    "\n",
    "printer = CppPrinter()\n",
    "printer.declaration_str(dcl[0][0])"
   ]
  },
  {
   "cell_type": "code",
   "execution_count": 264,
   "metadata": {
    "collapsed": false,
    "scrolled": true
   },
   "outputs": [
    {
     "name": "stdout",
     "output_type": "stream",
     "text": [
      "double a\n"
     ]
    }
   ],
   "source": [
    "printer = CppPrinter()\n",
    "test_decl = var_decl_list.parseString('double a', parseAll=True)\n",
    "\n",
    "for decla in test_decl:\n",
    "    print(printer.declaration_str(decla))"
   ]
  },
  {
   "cell_type": "code",
   "execution_count": 276,
   "metadata": {
    "collapsed": false
   },
   "outputs": [
    {
     "name": "stdout",
     "output_type": "stream",
     "text": [
      "''\n"
     ]
    }
   ],
   "source": [
    "printer = CppPrinter()\n",
    "test_fundef = fun_def.parseString('std::string GetName() const { return name; }', parseAll=True)[0]\n",
    "#print(printer.function_decl_str(test_fundef))\n",
    "print(repr(test_fundef.name))\n"
   ]
  },
  {
   "cell_type": "code",
   "execution_count": 33,
   "metadata": {
    "collapsed": false,
    "scrolled": true
   },
   "outputs": [
    {
     "data": {
      "text/plain": [
       "[False,\n",
       " False,\n",
       " False,\n",
       " False,\n",
       " False,\n",
       " False,\n",
       " False,\n",
       " True,\n",
       " True,\n",
       " False,\n",
       " False,\n",
       " False,\n",
       " False,\n",
       " False,\n",
       " False,\n",
       " False,\n",
       " False,\n",
       " False,\n",
       " False,\n",
       " False,\n",
       " False,\n",
       " False,\n",
       " False,\n",
       " False,\n",
       " False,\n",
       " False,\n",
       " False,\n",
       " False,\n",
       " False,\n",
       " False,\n",
       " False,\n",
       " False,\n",
       " False,\n",
       " False,\n",
       " False,\n",
       " False,\n",
       " False,\n",
       " False,\n",
       " False,\n",
       " False,\n",
       " True,\n",
       " True,\n",
       " True,\n",
       " False,\n",
       " False,\n",
       " False,\n",
       " False,\n",
       " False,\n",
       " False,\n",
       " False]"
      ]
     },
     "execution_count": 33,
     "metadata": {},
     "output_type": "execute_result"
    }
   ],
   "source": [
    "list(functions[i][0].isConstant() for i in range(len(functions)))"
   ]
  },
  {
   "cell_type": "code",
   "execution_count": 34,
   "metadata": {
    "collapsed": false
   },
   "outputs": [
    {
     "ename": "IndexError",
     "evalue": "list index out of range",
     "output_type": "error",
     "traceback": [
      "\u001b[1;31m---------------------------------------------------------------------------\u001b[0m",
      "\u001b[1;31mIndexError\u001b[0m                                Traceback (most recent call last)",
      "\u001b[1;32m<ipython-input-34-e533f6c7c01a>\u001b[0m in \u001b[0;36m<module>\u001b[1;34m()\u001b[0m\n\u001b[0;32m     11\u001b[0m             \u001b[0mclasses\u001b[0m\u001b[1;33m.\u001b[0m\u001b[0madd\u001b[0m\u001b[1;33m(\u001b[0m\u001b[0mcd\u001b[0m\u001b[1;33m[\u001b[0m\u001b[1;36m0\u001b[0m\u001b[1;33m]\u001b[0m\u001b[1;33m)\u001b[0m\u001b[1;33m\u001b[0m\u001b[0m\n\u001b[0;32m     12\u001b[0m             \u001b[1;32mif\u001b[0m \u001b[0mlen\u001b[0m\u001b[1;33m(\u001b[0m\u001b[0mcd\u001b[0m\u001b[1;33m)\u001b[0m \u001b[1;33m>\u001b[0m \u001b[1;36m1\u001b[0m\u001b[1;33m:\u001b[0m\u001b[1;33m\u001b[0m\u001b[0m\n\u001b[1;32m---> 13\u001b[1;33m                 \u001b[0mbase_classes\u001b[0m \u001b[1;33m=\u001b[0m \u001b[1;33m{\u001b[0m \u001b[0me\u001b[0m\u001b[1;33m[\u001b[0m\u001b[1;33m-\u001b[0m\u001b[1;36m1\u001b[0m\u001b[1;33m]\u001b[0m \u001b[1;32mfor\u001b[0m \u001b[0me\u001b[0m \u001b[1;32min\u001b[0m \u001b[0mcd\u001b[0m\u001b[1;33m[\u001b[0m\u001b[1;36m1\u001b[0m\u001b[1;33m:\u001b[0m\u001b[1;33m]\u001b[0m \u001b[1;33m}\u001b[0m\u001b[1;33m\u001b[0m\u001b[0m\n\u001b[0m\u001b[0;32m     14\u001b[0m                 \u001b[0mclasses\u001b[0m\u001b[1;33m.\u001b[0m\u001b[0mupdate\u001b[0m\u001b[1;33m(\u001b[0m\u001b[0mbase_classes\u001b[0m\u001b[1;33m)\u001b[0m\u001b[1;33m\u001b[0m\u001b[0m\n\u001b[0;32m     15\u001b[0m                 \u001b[0mderivations\u001b[0m\u001b[1;33m.\u001b[0m\u001b[0mextend\u001b[0m\u001b[1;33m(\u001b[0m\u001b[1;33m[\u001b[0m \u001b[1;33m(\u001b[0m\u001b[0mcd\u001b[0m\u001b[1;33m[\u001b[0m\u001b[1;36m0\u001b[0m\u001b[1;33m]\u001b[0m\u001b[1;33m,\u001b[0m \u001b[0mbc\u001b[0m\u001b[1;33m)\u001b[0m \u001b[1;32mfor\u001b[0m \u001b[0mbc\u001b[0m \u001b[1;32min\u001b[0m \u001b[0mbase_classes\u001b[0m \u001b[1;33m]\u001b[0m\u001b[1;33m)\u001b[0m\u001b[1;33m\u001b[0m\u001b[0m\n",
      "\u001b[1;32m<ipython-input-34-e533f6c7c01a>\u001b[0m in \u001b[0;36m<setcomp>\u001b[1;34m(.0)\u001b[0m\n\u001b[0;32m     11\u001b[0m             \u001b[0mclasses\u001b[0m\u001b[1;33m.\u001b[0m\u001b[0madd\u001b[0m\u001b[1;33m(\u001b[0m\u001b[0mcd\u001b[0m\u001b[1;33m[\u001b[0m\u001b[1;36m0\u001b[0m\u001b[1;33m]\u001b[0m\u001b[1;33m)\u001b[0m\u001b[1;33m\u001b[0m\u001b[0m\n\u001b[0;32m     12\u001b[0m             \u001b[1;32mif\u001b[0m \u001b[0mlen\u001b[0m\u001b[1;33m(\u001b[0m\u001b[0mcd\u001b[0m\u001b[1;33m)\u001b[0m \u001b[1;33m>\u001b[0m \u001b[1;36m1\u001b[0m\u001b[1;33m:\u001b[0m\u001b[1;33m\u001b[0m\u001b[0m\n\u001b[1;32m---> 13\u001b[1;33m                 \u001b[0mbase_classes\u001b[0m \u001b[1;33m=\u001b[0m \u001b[1;33m{\u001b[0m \u001b[0me\u001b[0m\u001b[1;33m[\u001b[0m\u001b[1;33m-\u001b[0m\u001b[1;36m1\u001b[0m\u001b[1;33m]\u001b[0m \u001b[1;32mfor\u001b[0m \u001b[0me\u001b[0m \u001b[1;32min\u001b[0m \u001b[0mcd\u001b[0m\u001b[1;33m[\u001b[0m\u001b[1;36m1\u001b[0m\u001b[1;33m:\u001b[0m\u001b[1;33m]\u001b[0m \u001b[1;33m}\u001b[0m\u001b[1;33m\u001b[0m\u001b[0m\n\u001b[0m\u001b[0;32m     14\u001b[0m                 \u001b[0mclasses\u001b[0m\u001b[1;33m.\u001b[0m\u001b[0mupdate\u001b[0m\u001b[1;33m(\u001b[0m\u001b[0mbase_classes\u001b[0m\u001b[1;33m)\u001b[0m\u001b[1;33m\u001b[0m\u001b[0m\n\u001b[0;32m     15\u001b[0m                 \u001b[0mderivations\u001b[0m\u001b[1;33m.\u001b[0m\u001b[0mextend\u001b[0m\u001b[1;33m(\u001b[0m\u001b[1;33m[\u001b[0m \u001b[1;33m(\u001b[0m\u001b[0mcd\u001b[0m\u001b[1;33m[\u001b[0m\u001b[1;36m0\u001b[0m\u001b[1;33m]\u001b[0m\u001b[1;33m,\u001b[0m \u001b[0mbc\u001b[0m\u001b[1;33m)\u001b[0m \u001b[1;32mfor\u001b[0m \u001b[0mbc\u001b[0m \u001b[1;32min\u001b[0m \u001b[0mbase_classes\u001b[0m \u001b[1;33m]\u001b[0m\u001b[1;33m)\u001b[0m\u001b[1;33m\u001b[0m\u001b[0m\n",
      "\u001b[1;32m/usr/lib/python3.5/site-packages/pyparsing.py\u001b[0m in \u001b[0;36m__getitem__\u001b[1;34m(self, i)\u001b[0m\n\u001b[0;32m    313\u001b[0m     \u001b[1;32mdef\u001b[0m \u001b[0m__getitem__\u001b[0m\u001b[1;33m(\u001b[0m \u001b[0mself\u001b[0m\u001b[1;33m,\u001b[0m \u001b[0mi\u001b[0m \u001b[1;33m)\u001b[0m\u001b[1;33m:\u001b[0m\u001b[1;33m\u001b[0m\u001b[0m\n\u001b[0;32m    314\u001b[0m         \u001b[1;32mif\u001b[0m \u001b[0misinstance\u001b[0m\u001b[1;33m(\u001b[0m \u001b[0mi\u001b[0m\u001b[1;33m,\u001b[0m \u001b[1;33m(\u001b[0m\u001b[0mint\u001b[0m\u001b[1;33m,\u001b[0m\u001b[0mslice\u001b[0m\u001b[1;33m)\u001b[0m \u001b[1;33m)\u001b[0m\u001b[1;33m:\u001b[0m\u001b[1;33m\u001b[0m\u001b[0m\n\u001b[1;32m--> 315\u001b[1;33m             \u001b[1;32mreturn\u001b[0m \u001b[0mself\u001b[0m\u001b[1;33m.\u001b[0m\u001b[0m__toklist\u001b[0m\u001b[1;33m[\u001b[0m\u001b[0mi\u001b[0m\u001b[1;33m]\u001b[0m\u001b[1;33m\u001b[0m\u001b[0m\n\u001b[0m\u001b[0;32m    316\u001b[0m         \u001b[1;32melse\u001b[0m\u001b[1;33m:\u001b[0m\u001b[1;33m\u001b[0m\u001b[0m\n\u001b[0;32m    317\u001b[0m             \u001b[1;32mif\u001b[0m \u001b[0mi\u001b[0m \u001b[1;32mnot\u001b[0m \u001b[1;32min\u001b[0m \u001b[0mself\u001b[0m\u001b[1;33m.\u001b[0m\u001b[0m__accumNames\u001b[0m\u001b[1;33m:\u001b[0m\u001b[1;33m\u001b[0m\u001b[0m\n",
      "\u001b[1;31mIndexError\u001b[0m: list index out of range"
     ]
    }
   ],
   "source": [
    "classes = set()\n",
    "derivations = []\n",
    "\n",
    "for root, dirs, files in os.walk('/home/farad/Programmieren/flightgear-flightgear/src/'):\n",
    "    for f in filter((lambda f: f.endswith('.hxx')), files):\n",
    "        p = join(root, f)\n",
    "        #print('%s:' % p)\n",
    "        # file content with comments removed\n",
    "        file_content = comment.transformString('\\n'.join(open(p)))\n",
    "        for cd in complex_type_def.searchString(file_content):\n",
    "            classes.add(cd[0])\n",
    "            if len(cd) > 1:\n",
    "                base_classes = { e[-1] for e in cd[1:] }\n",
    "                classes.update(base_classes)\n",
    "                derivations.extend([ (cd[0], bc) for bc in base_classes ])\n"
   ]
  },
  {
   "cell_type": "code",
   "execution_count": null,
   "metadata": {
    "collapsed": false
   },
   "outputs": [],
   "source": [
    "derivations"
   ]
  },
  {
   "cell_type": "code",
   "execution_count": 70,
   "metadata": {
    "collapsed": false
   },
   "outputs": [
    {
     "data": {
      "text/plain": [
       "707"
      ]
     },
     "execution_count": 70,
     "metadata": {},
     "output_type": "execute_result"
    }
   ],
   "source": [
    "len(classes)"
   ]
  },
  {
   "cell_type": "code",
   "execution_count": 55,
   "metadata": {
    "collapsed": true
   },
   "outputs": [],
   "source": [
    "import networkx as nx"
   ]
  },
  {
   "cell_type": "code",
   "execution_count": 71,
   "metadata": {
    "collapsed": false
   },
   "outputs": [],
   "source": [
    "gr = nx.DiGraph()\n",
    "gr.add_nodes_from(classes)\n",
    "gr.add_edges_from(derivations)"
   ]
  },
  {
   "cell_type": "code",
   "execution_count": 95,
   "metadata": {
    "collapsed": false
   },
   "outputs": [],
   "source": [
    "nx.write_gexf(gr, '/home/farad/test.gexf')"
   ]
  },
  {
   "cell_type": "code",
   "execution_count": 73,
   "metadata": {
    "collapsed": false
   },
   "outputs": [],
   "source": [
    "def write_graph_csv(output_file, graph):\n",
    "    with open(output_file, 'w') as ostream:\n",
    "        ostream.write('Source,Target\\n')\n",
    "        for edge in graph.edges_iter():\n",
    "            ostream.write('%s,%s\\n' % edge)\n"
   ]
  },
  {
   "cell_type": "code",
   "execution_count": 74,
   "metadata": {
    "collapsed": true
   },
   "outputs": [],
   "source": [
    "write_graph_csv('/home/farad/test.csv', gr)"
   ]
  }
 ],
 "metadata": {
  "kernelspec": {
   "display_name": "Python 3",
   "language": "python",
   "name": "python3"
  },
  "language_info": {
   "codemirror_mode": {
    "name": "ipython",
    "version": 3
   },
   "file_extension": ".py",
   "mimetype": "text/x-python",
   "name": "python",
   "nbconvert_exporter": "python",
   "pygments_lexer": "ipython3",
   "version": "3.5.1"
  }
 },
 "nbformat": 4,
 "nbformat_minor": 0
}
