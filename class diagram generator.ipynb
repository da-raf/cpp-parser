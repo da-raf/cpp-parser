{
 "cells": [
  {
   "cell_type": "code",
   "execution_count": 1,
   "metadata": {
    "collapsed": true
   },
   "outputs": [],
   "source": [
    "import pyparsing as pp\n"
   ]
  },
  {
   "cell_type": "code",
   "execution_count": 123,
   "metadata": {
    "collapsed": false
   },
   "outputs": [],
   "source": [
    "# comments need to be removed\n",
    "comment = (pp.cStyleComment | pp.cppStyleComment).suppress()\n",
    "\n",
    "identifier = pp.Word(pp.alphas+'_~', pp.alphanums+'_')\n",
    "persistency = pp.Keyword('static')\n",
    "volatility = pp.Keyword('const') | pp.Keyword('volatile')\n",
    "\n",
    "type_identifier = pp.Forward()\n",
    "type_identifier <<= pp.Group( pp.Group(pp.Optional(persistency) + pp.Optional(volatility))('keywords') \\\n",
    "                + pp.Group(\n",
    "                  (pp.Optional(pp.Keyword('unsigned') | pp.Keyword('signed')) \\\n",
    "                        + (pp.Keyword('double') | pp.Keyword('int') | pp.Keyword('float') | \\\n",
    "                           pp.Keyword('char') | pp.Keyword('void'))).setParseAction( lambda tokens: ' '.join(tokens) ) \\\n",
    "                | (identifier + pp.ZeroOrMore(pp.Literal('::') + identifier)).setParseAction( lambda tokens: ''.join(tokens)) \\\n",
    "                + pp.Optional( pp.Literal('<') + type_identifier + pp.Literal('>') ) \\\n",
    "                + pp.ZeroOrMore( pp.Literal('*') | pp.Literal('&') ) )('tp') )\n",
    "\n",
    "parameter_list = pp.Literal('(').suppress() \\\n",
    "                   + pp.Group(\n",
    "                         pp.Optional(pp.Group(type_identifier + identifier) \\\n",
    "                       + pp.ZeroOrMore(pp.Literal(',').suppress() + pp.Group(type_identifier + identifier)))\n",
    "                   ) \\\n",
    "               + pp.Literal(')').suppress()\n",
    "\n",
    "decl = type_identifier + identifier + pp.ZeroOrMore(pp.Literal(',').suppress() + identifier)\n",
    "fun_decl = pp.Optional(pp.Keyword('virtual'))('keywords') \\\n",
    "         + pp.Optional(type_identifier)('ret_type') + identifier('name') \\\n",
    "         + parameter_list('parameters') \\\n",
    "         + pp.Optional(pp.Keyword('const'))\n",
    "\n",
    "visibility = pp.Keyword('private') | pp.Keyword('public') | pp.Keyword('protected')\n",
    "\n",
    "class_decl = pp.Keyword('class').suppress() + identifier\n",
    "class_def  = pp.Optional(visibility) + class_decl + \\\n",
    "             pp.Optional(pp.Group(pp.Literal(':').suppress() + pp.Optional(visibility) + identifier))\n"
   ]
  },
  {
   "cell_type": "code",
   "execution_count": 53,
   "metadata": {
    "collapsed": true
   },
   "outputs": [],
   "source": [
    "type_definition = pp.Keyword('typedef') + type_identifier + identifier"
   ]
  },
  {
   "cell_type": "code",
   "execution_count": 3,
   "metadata": {
    "collapsed": true
   },
   "outputs": [],
   "source": [
    "pp.nestedExpr?"
   ]
  },
  {
   "cell_type": "code",
   "execution_count": 10,
   "metadata": {
    "collapsed": true
   },
   "outputs": [],
   "source": [
    "import os\n",
    "from os.path import join, getsize\n"
   ]
  },
  {
   "cell_type": "code",
   "execution_count": 79,
   "metadata": {
    "collapsed": true
   },
   "outputs": [],
   "source": [
    "def print_args(function):\n",
    "    def wrapper(*args, **kwargs):\n",
    "        print('arguments: %s, %s' % (str(args), str(kwargs)))\n",
    "        return function(*args, **kwargs)\n",
    "    return wrapper\n"
   ]
  },
  {
   "cell_type": "code",
   "execution_count": 135,
   "metadata": {
    "collapsed": false
   },
   "outputs": [
    {
     "name": "stdout",
     "output_type": "stream",
     "text": [
      "0: bool Test\n",
      "1: double GetValue\n",
      "2: irtual ~FGInputEvent\n",
      "3: void fire\n",
      "4: std::string GetName\n",
      "5: std::string GetDescription\n",
      "6: void update\n",
      "7: static FGInputEvent* NewObject\n",
      "8: void fire\n",
      "9: void fire\n",
      "10: void SetMaxRange\n",
      "11: void SetMinRange\n",
      "12: void SetRange\n",
      "13: void fire\n",
      "14: void fire\n",
      "15: void fire\n",
      "16: irtual ~FGInputDevice\n",
      "17: void Open\n",
      "18: void Close\n",
      "19: void Send\n",
      "20: har* TranslateEventName\n",
      "21: void SetName\n",
      "22: std::string& GetName\n",
      "23: void HandleEvent\n",
      "24: void AddHandledEvent\n",
      "25: void Configure\n",
      "26: void update\n",
      "27: bool GetDebugEvents\n",
      "28: bool GetGrab\n",
      "29: const std::string& GetNasalModule\n",
      "30: irtual ~FGEventInput\n",
      "31: void init\n",
      "32: void postinit\n",
      "33: void update\n",
      "34: unsigned AddDevice\n",
      "35: void RemoveDevice\n",
      "[[[], ['ifndef']], '__FGEVENTINPUT_HXX']\n",
      "[[[], ['define']], '__FGEVENTINPUT_HXX']\n",
      "[[[], ['struct']], 'FGEventData']\n",
      "[[[], ['double']], 'aValue', 'double']\n",
      "[[[], ['int']], 'aModifiers']\n",
      "[[[], ['int']], 'modifiers']\n",
      "[[[], ['double']], 'value']\n",
      "[[[], ['double']], 'dt']\n",
      "[[[], ['class']], 'FGEventSetting']\n",
      "[[[], ['public']], 'SGReferenced']\n",
      "[[[], ['SGPropertyNode_ptr']], 'base']\n",
      "[[[], ['bool']], 'Test']\n",
      "[[[], ['double']], 'GetValue']\n",
      "[[[], ['double']], 'value']\n",
      "[[[], ['SGPropertyNode_ptr']], 'valueNode']\n",
      "[[[], ['SGSharedPtr', '<', [['const'], ['SGCondition']], '>']], 'condition']\n",
      "[[[], ['typedef']], 'SGSharedPtr']\n",
      "[[[], ['typedef']], 'std']\n",
      "[[[], ['vector', '<', [[], ['FGEventSetting_ptr']], '>']], 'setting_list_t']\n",
      "[[[], ['class']], 'FGInputDevice']\n",
      "[[[], ['class']], 'FGInputEvent']\n",
      "[[[], ['public']], 'SGReferenced', 'FGCommonInput']\n",
      "[[[], ['FGInputDevice', '*']], 'device', 'SGPropertyNode_ptr']\n",
      "[[[], ['virtual']], '~FGInputEvent']\n",
      "[[[], ['virtual']], 'void']\n",
      "[[[], ['FGEventData', '&']], 'eventData']\n",
      "[[[], ['std::string']], 'GetName']\n",
      "[[[], ['return']], 'name']\n",
      "[[[], ['std::string']], 'GetDescription']\n",
      "[[[], ['return']], 'desc']\n",
      "[[[], ['virtual']], 'void']\n",
      "[[[], ['double']], 'dt']\n",
      "[[['static'], ['FGInputEvent', '*']], 'NewObject']\n",
      "[[[], ['FGInputDevice', '*']], 'device', 'SGPropertyNode_ptr']\n",
      "[[[], ['virtual']], 'void']\n",
      "[[[], ['SGBinding', '*']], 'binding', 'FGEventData']\n",
      "[[[], ['std::string']], 'desc']\n",
      "[[[], ['std::string']], 'name']\n",
      "[[[], ['binding_list_t']], 'bindings']\n",
      "[[[], ['setting_list_t']], 'settings']\n",
      "[[[], ['FGInputDevice', '*']], 'device']\n",
      "[[[], ['double']], 'lastDt']\n",
      "[[[], ['double']], 'intervalSec']\n",
      "[[[], ['double']], 'lastSettingValue']\n",
      "[[[], ['class']], 'FGButtonEvent']\n",
      "[[[], ['public']], 'FGInputEvent']\n",
      "[[[], ['FGInputDevice', '*']], 'device', 'SGPropertyNode_ptr']\n",
      "[[[], ['virtual']], 'void']\n",
      "[[[], ['FGEventData', '&']], 'eventData']\n",
      "[[[], ['bool']], 'repeatable']\n",
      "[[[], ['bool']], 'lastState']\n",
      "[[[], ['class']], 'FGAxisEvent']\n",
      "[[[], ['public']], 'FGInputEvent']\n",
      "[[[], ['FGInputDevice', '*']], 'device', 'SGPropertyNode_ptr']\n",
      "[[[], ['void']], 'SetMaxRange']\n",
      "[[[], ['double']], 'value']\n",
      "[[[], ['void']], 'SetMinRange']\n",
      "[[[], ['double']], 'value']\n",
      "[[[], ['void']], 'SetRange']\n",
      "[[[], ['double']], 'min', 'double']\n",
      "[[[], ['virtual']], 'void']\n",
      "[[[], ['FGEventData', '&']], 'eventData']\n",
      "[[[], ['double']], 'tolerance']\n",
      "[[[], ['double']], 'minRange']\n",
      "[[[], ['double']], 'maxRange']\n",
      "[[[], ['double']], 'center']\n",
      "[[[], ['double']], 'deadband']\n",
      "[[[], ['double']], 'lowThreshold']\n",
      "[[[], ['double']], 'highThreshold']\n",
      "[[[], ['double']], 'lastValue']\n",
      "[[[], ['class']], 'FGRelAxisEvent']\n",
      "[[[], ['public']], 'FGAxisEvent']\n",
      "[[[], ['FGInputDevice', '*']], 'device', 'SGPropertyNode_ptr']\n",
      "[[[], ['virtual']], 'void']\n",
      "[[[], ['SGBinding', '*']], 'binding', 'FGEventData']\n",
      "[[[], ['class']], 'FGAbsAxisEvent']\n",
      "[[[], ['public']], 'FGAxisEvent']\n",
      "[[[], ['FGInputDevice', '*']], 'device', 'SGPropertyNode_ptr']\n",
      "[[[], ['virtual']], 'void']\n",
      "[[[], ['SGBinding', '*']], 'binding', 'FGEventData']\n",
      "[[[], ['typedef']], 'class']\n",
      "[[[], ['SGSharedPtr', '<', [[], ['FGInputEvent']], '>']], 'FGInputEvent_ptr']\n",
      "[[[], ['class']], 'FGInputDevice']\n",
      "[[[], ['public']], 'SGReferenced']\n",
      "[[[], ['std::string']], 'aName']\n",
      "[[[], ['virtual']], '~FGInputDevice']\n",
      "[[[], ['virtual']], 'void']\n",
      "[[[], ['virtual']], 'void']\n",
      "[[[], ['virtual']], 'void']\n",
      "[[[], ['onst']], 'char']\n",
      "[[[], ['double']], 'value']\n",
      "[[[], ['inline']], 'void']\n",
      "[[['const'], ['std::string', '&']], 'eventName', 'double']\n",
      "[[[], ['virtual']], 'const']\n",
      "[[[], ['har', '*']], 'TranslateEventName']\n",
      "[[[], ['FGEventData', '&']], 'eventData']\n",
      "[[[], ['void']], 'SetName']\n",
      "[[[], ['std::string']], 'name']\n",
      "[[[], ['std::string', '&']], 'GetName']\n",
      "[[[], ['return']], 'name']\n",
      "[[[], ['void']], 'HandleEvent']\n",
      "[[[], ['FGEventData', '&']], 'eventData']\n",
      "[[[], ['void']], 'AddHandledEvent']\n",
      "[[[], ['FGInputEvent_ptr']], 'handledEvent']\n",
      "[[[], ['virtual']], 'void']\n",
      "[[[], ['SGPropertyNode_ptr']], 'deviceNode']\n",
      "[[[], ['virtual']], 'void']\n",
      "[[[], ['double']], 'dt']\n",
      "[[[], ['bool']], 'GetDebugEvents']\n",
      "[[[], ['return']], 'debugEvents']\n",
      "[[[], ['bool']], 'GetGrab']\n",
      "[[[], ['return']], 'grab']\n",
      "[[['const'], ['std::string', '&']], 'GetNasalModule']\n",
      "[[[], ['return']], 'nasalModule']\n",
      "[[[], ['std::string']], 'name']\n",
      "[[[], ['bool']], 'debugEvents']\n",
      "[[[], ['bool']], 'grab']\n",
      "[[[], ['SGPropertyNode_ptr']], 'deviceNode']\n",
      "[[[], ['std::string']], 'nasalModule']\n",
      "[[[], ['typedef']], 'SGSharedPtr']\n",
      "[[[], ['class']], 'FGEventInput']\n",
      "[[[], ['public']], 'SGSubsystem', 'FGCommonInput']\n",
      "[[[], ['virtual']], '~FGEventInput']\n",
      "[[[], ['virtual']], 'void']\n",
      "[[[], ['virtual']], 'void']\n",
      "[[[], ['virtual']], 'void']\n",
      "[[[], ['double']], 'dt']\n",
      "[[['const'], ['static']], 'unsigned']\n",
      "[[['const'], ['static']], 'unsigned']\n",
      "[[[], ['tatic']], 'const']\n",
      "[[[], ['har', '*']], 'PROPERTY_ROOT']\n",
      "[[[], ['unsigned']], 'AddDevice']\n",
      "[[[], ['FGInputDevice', '*']], 'inputDevice']\n",
      "[[[], ['void']], 'RemoveDevice']\n",
      "[[[], ['unsigned']], 'index']\n",
      "[[[], ['FGDeviceConfigurationMap']], 'configMap']\n",
      "[[[], ['SGPropertyNode_ptr']], 'nasalClose']\n"
     ]
    }
   ],
   "source": [
    "source_code = '\\n'.join(\n",
    "    open('/home/farad/Programmieren/flightgear-flightgear/src/Input/FGEventInput.hxx')\n",
    ")\n",
    "\n",
    "source_code = comment.transformString(source_code)\n",
    "\n",
    "functions = fun_decl.searchString(source_code)\n",
    "decls = decl.searchString(source_code)\n",
    "\n",
    "def type_identifier_to_str(t):\n",
    "    return str(t[0].keywords[0])\n",
    "\n",
    "def function_to_str(f):\n",
    "    return f.keywords + ' ' + type_identifier_to_str(f.ret_type) + ' ' + f.name\n",
    "\n",
    "for i,f in enumerate(functions):\n",
    "    f_str = \"\"\n",
    "    for kw in f.ret_type[0][0]:\n",
    "        f_str += str(kw) + ' '\n",
    "    if len(f.ret_type[0][1]) > 0:\n",
    "        f_str += ''.join(f.ret_type[0][1]) + ' '\n",
    "    f_str += f.name\n",
    "    print(('%d: ' % i) + f_str)\n",
    "\n",
    "for dcl in decls:\n",
    "    print(dcl)"
   ]
  },
  {
   "cell_type": "code",
   "execution_count": 24,
   "metadata": {
    "collapsed": false
   },
   "outputs": [
    {
     "name": "stdout",
     "output_type": "stream",
     "text": [
      "['typedef', ['std', '::', 'vector', '<', ['SGSharedPtr', '<', ['SGBinding'], '>'], '>'], 'binding_list_t']\n"
     ]
    }
   ],
   "source": [
    "typedefs = type_definition.searchString(\n",
    "    '\\n'.join(\n",
    "        open('/home/farad/Programmieren/flightgear-flightgear/src/Input/FGCommonInput.hxx')\n",
    "    )\n",
    ")\n",
    "\n",
    "for td in typedefs:\n",
    "    print(td)"
   ]
  },
  {
   "cell_type": "code",
   "execution_count": 68,
   "metadata": {
    "collapsed": false
   },
   "outputs": [],
   "source": [
    "classes = set()\n",
    "derivations = []\n",
    "\n",
    "for root, dirs, files in os.walk('/home/farad/Programmieren/flightgear-flightgear/src/'):\n",
    "    for f in filter((lambda f: f.endswith('.hxx')), files):\n",
    "        p = join(root, f)\n",
    "        #print('%s:' % p)\n",
    "        # file content with comments removed\n",
    "        file_content = comment.transformString('\\n'.join(open(p)))\n",
    "        for cd in class_def.searchString(file_content):\n",
    "            classes.add(cd[0])\n",
    "            if len(cd) > 1:\n",
    "                base_classes = { e[-1] for e in cd[1:] }\n",
    "                classes.update(base_classes)\n",
    "                derivations.extend([ (cd[0], bc) for bc in base_classes ])\n"
   ]
  },
  {
   "cell_type": "code",
   "execution_count": null,
   "metadata": {
    "collapsed": false
   },
   "outputs": [],
   "source": [
    "derivations"
   ]
  },
  {
   "cell_type": "code",
   "execution_count": 70,
   "metadata": {
    "collapsed": false
   },
   "outputs": [
    {
     "data": {
      "text/plain": [
       "707"
      ]
     },
     "execution_count": 70,
     "metadata": {},
     "output_type": "execute_result"
    }
   ],
   "source": [
    "len(classes)"
   ]
  },
  {
   "cell_type": "code",
   "execution_count": 55,
   "metadata": {
    "collapsed": true
   },
   "outputs": [],
   "source": [
    "import networkx as nx"
   ]
  },
  {
   "cell_type": "code",
   "execution_count": 71,
   "metadata": {
    "collapsed": false
   },
   "outputs": [],
   "source": [
    "gr = nx.DiGraph()\n",
    "gr.add_nodes_from(classes)\n",
    "gr.add_edges_from(derivations)"
   ]
  },
  {
   "cell_type": "code",
   "execution_count": 95,
   "metadata": {
    "collapsed": false
   },
   "outputs": [],
   "source": [
    "nx.write_gexf(gr, '/home/farad/test.gexf')"
   ]
  },
  {
   "cell_type": "code",
   "execution_count": 73,
   "metadata": {
    "collapsed": false
   },
   "outputs": [],
   "source": [
    "def write_graph_csv(output_file, graph):\n",
    "    with open(output_file, 'w') as ostream:\n",
    "        ostream.write('Source,Target\\n')\n",
    "        for edge in graph.edges_iter():\n",
    "            ostream.write('%s,%s\\n' % edge)\n"
   ]
  },
  {
   "cell_type": "code",
   "execution_count": 74,
   "metadata": {
    "collapsed": true
   },
   "outputs": [],
   "source": [
    "write_graph_csv('/home/farad/test.csv', gr)"
   ]
  }
 ],
 "metadata": {
  "kernelspec": {
   "display_name": "Python 3",
   "language": "python",
   "name": "python3"
  },
  "language_info": {
   "codemirror_mode": {
    "name": "ipython",
    "version": 3
   },
   "file_extension": ".py",
   "mimetype": "text/x-python",
   "name": "python",
   "nbconvert_exporter": "python",
   "pygments_lexer": "ipython3",
   "version": "3.5.1"
  }
 },
 "nbformat": 4,
 "nbformat_minor": 0
}
